{
 "cells": [
  {
   "cell_type": "markdown",
   "id": "cc470a0b",
   "metadata": {},
   "source": [
    "# Preparing the IMDB data"
   ]
  },
  {
   "cell_type": "code",
   "execution_count": 13,
   "id": "12219743",
   "metadata": {},
   "outputs": [
    {
     "name": "stdout",
     "output_type": "stream",
     "text": [
      "Loading data...\n",
      "25000 train sequences\n",
      "25000 test sequences\n",
      "Pad sequences (samples x time)\n",
      "input_train shape: (25000, 500)\n",
      "input_test shape: (25000, 500)\n"
     ]
    }
   ],
   "source": [
    "from keras.datasets import imdb\n",
    "from keras.preprocessing import sequence\n",
    "\n",
    "max_features = 10000\n",
    "maxlen = 500\n",
    "batch_size = 3\n",
    "\n",
    "print('Loading data...')\n",
    "(input_train, y_train), (input_test, y_test) = imdb.load_data(\n",
    "                                                    num_words=max_features)\n",
    "\n",
    "print(len(input_train), 'train sequences')\n",
    "print(len(input_test), 'test sequences')\n",
    "print('Pad sequences (samples x time)')\n",
    "\n",
    "input_train = sequence.pad_sequences(input_train, maxlen=maxlen)\n",
    "input_test = sequence.pad_sequences(input_test, maxlen=maxlen)\n",
    "\n",
    "print('input_train shape:', input_train.shape)\n",
    "print('input_test shape:', input_test.shape)"
   ]
  },
  {
   "cell_type": "markdown",
   "id": "5b6dc274",
   "metadata": {},
   "source": [
    "# Training the model with Embedding and SimpleRNN layers"
   ]
  },
  {
   "cell_type": "code",
   "execution_count": 14,
   "id": "32156b7c",
   "metadata": {},
   "outputs": [
    {
     "name": "stdout",
     "output_type": "stream",
     "text": [
      "Epoch 1/10\n",
      "157/157 [==============================] - 28s 165ms/step - loss: 0.5741 - acc: 0.6962 - val_loss: 0.4299 - val_acc: 0.8170\n",
      "Epoch 2/10\n",
      "157/157 [==============================] - 25s 160ms/step - loss: 0.3490 - acc: 0.8561 - val_loss: 0.4717 - val_acc: 0.7748\n",
      "Epoch 3/10\n",
      "157/157 [==============================] - 27s 171ms/step - loss: 0.2637 - acc: 0.8987 - val_loss: 0.3633 - val_acc: 0.8456\n",
      "Epoch 4/10\n",
      "157/157 [==============================] - 27s 172ms/step - loss: 0.2166 - acc: 0.9183 - val_loss: 0.4785 - val_acc: 0.7754\n",
      "Epoch 5/10\n",
      "157/157 [==============================] - 27s 174ms/step - loss: 0.1647 - acc: 0.9398 - val_loss: 0.4356 - val_acc: 0.8632\n",
      "Epoch 6/10\n",
      "157/157 [==============================] - 29s 185ms/step - loss: 0.1156 - acc: 0.9614 - val_loss: 0.5635 - val_acc: 0.7700\n",
      "Epoch 7/10\n",
      "157/157 [==============================] - 26s 169ms/step - loss: 0.0809 - acc: 0.9740 - val_loss: 0.4302 - val_acc: 0.8622\n",
      "Epoch 8/10\n",
      "157/157 [==============================] - 28s 176ms/step - loss: 0.0523 - acc: 0.9837 - val_loss: 0.4704 - val_acc: 0.8602\n",
      "Epoch 9/10\n",
      "157/157 [==============================] - 26s 167ms/step - loss: 0.0379 - acc: 0.9884 - val_loss: 0.5385 - val_acc: 0.8438\n",
      "Epoch 10/10\n",
      "157/157 [==============================] - 29s 183ms/step - loss: 0.0259 - acc: 0.9920 - val_loss: 0.5909 - val_acc: 0.8472\n"
     ]
    }
   ],
   "source": [
    "from keras.layers import Dense\n",
    "\n",
    "model = Sequential()\n",
    "model.add(Embedding(max_features, 32))\n",
    "model.add(SimpleRNN(32))\n",
    "model.add(Dense(1, activation='sigmoid'))\n",
    "\n",
    "model.compile(optimizer='rmsprop', loss='binary_crossentropy', metrics=['acc'])\n",
    "\n",
    "history = model.fit(input_train, y_train,\n",
    "                epochs=10,\n",
    "                batch_size=128,\n",
    "                validation_split=0.2)"
   ]
  },
  {
   "cell_type": "markdown",
   "id": "496ed618",
   "metadata": {},
   "source": [
    "# Plotting results"
   ]
  },
  {
   "cell_type": "code",
   "execution_count": 15,
   "id": "5f7505d8",
   "metadata": {},
   "outputs": [
    {
     "data": {
      "image/png": "[encoded data removed]",
      "text/plain": [
       "<Figure size 432x288 with 1 Axes>"
      ]
     },
     "metadata": {
      "needs_background": "light"
     },
     "output_type": "display_data"
    },
    {
     "data": {
      "image/png": "[encoded data removed]",
      "text/plain": [
       "<Figure size 432x288 with 1 Axes>"
      ]
     },
     "metadata": {
      "needs_background": "light"
     },
     "output_type": "display_data"
    }
   ],
   "source": [
    "import matplotlib.pyplot as plt\n",
    "acc = history.history['acc']\n",
    "val_acc = history.history['val_acc']\n",
    "loss = history.history['loss']\n",
    "val_loss = history.history['val_loss']\n",
    "epochs = range(1, len(acc) + 1)\n",
    "plt.plot(epochs, acc, 'bo', label='Training acc')\n",
    "plt.plot(epochs, val_acc, 'b', label='Validation acc')\n",
    "plt.title('Training and validation accuracy')\n",
    "plt.legend()\n",
    "plt.figure()\n",
    "plt.plot(epochs, loss, 'bo', label='Training loss')\n",
    "plt.plot(epochs, val_loss, 'b', label='Validation loss')\n",
    "plt.title('Training and validation loss')\n",
    "plt.legend()\n",
    "plt.show()"
   ]
  },
  {
   "cell_type": "code",
   "execution_count": null,
   "id": "9427bfd1",
   "metadata": {},
   "outputs": [],
   "source": []
  }
 ],
 "metadata": {
  "kernelspec": {
   "display_name": "Python 3",
   "language": "python",
   "name": "python3"
  },
  "language_info": {
   "codemirror_mode": {
    "name": "ipython",
    "version": 3
   },
   "file_extension": ".py",
   "mimetype": "text/x-python",
   "name": "python",
   "nbconvert_exporter": "python",
   "pygments_lexer": "ipython3",
   "version": "3.8.8"
  }
 },
 "nbformat": 4,
 "nbformat_minor": 5
}
